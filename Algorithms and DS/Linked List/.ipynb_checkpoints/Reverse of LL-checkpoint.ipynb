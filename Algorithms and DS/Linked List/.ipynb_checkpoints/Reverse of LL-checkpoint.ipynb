{
 "cells": [
  {
   "cell_type": "markdown",
   "metadata": {},
   "source": [
    "# Problem\n",
    "\n",
    "Write a function to reverse a Linked List in place. The function will take in the head of the list as input and return the new head of the list.\n",
    "\n",
    "You are given the example Linked List Node class:"
   ]
  },
  {
   "cell_type": "code",
   "execution_count": 1,
   "metadata": {},
   "outputs": [],
   "source": [
    "class Node(object):\n",
    "    \n",
    "    def __init__(self,value):\n",
    "        \n",
    "        self.value = value\n",
    "        self.nextnode = None"
   ]
  },
  {
   "cell_type": "markdown",
   "metadata": {},
   "source": [
    "# Solution"
   ]
  },
  {
   "cell_type": "code",
   "execution_count": 2,
   "metadata": {},
   "outputs": [],
   "source": [
    "def reverse(head):\n",
    "    \n",
    "    # Set up current,previous, and next nodes\n",
    "    current = head\n",
    "    previous = None\n",
    "    nextnode = None\n",
    "\n",
    "    # until we have gone through to the end of the list\n",
    "    while current:\n",
    "        \n",
    "        # Make sure to copy the current nodes next node to a variable next_node\n",
    "        # Before overwriting as the previous node for reversal\n",
    "        nextnode = current.nextnode\n",
    "\n",
    "        # Reverse the pointer ot the next_node\n",
    "        current.nextnode = previous\n",
    "\n",
    "        # Go one forward in the list\n",
    "        previous = current\n",
    "        current = nextnode\n",
    "\n",
    "    return previous"
   ]
  },
  {
   "cell_type": "code",
   "execution_count": null,
   "metadata": {},
   "outputs": [],
   "source": []
  }
 ],
 "metadata": {
  "kernelspec": {
   "display_name": "Python 3",
   "language": "python",
   "name": "python3"
  },
  "language_info": {
   "codemirror_mode": {
    "name": "ipython",
    "version": 3
   },
   "file_extension": ".py",
   "mimetype": "text/x-python",
   "name": "python",
   "nbconvert_exporter": "python",
   "pygments_lexer": "ipython3",
   "version": "3.5.2"
  }
 },
 "nbformat": 4,
 "nbformat_minor": 2
}
