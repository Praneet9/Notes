{
 "cells": [
  {
   "cell_type": "markdown",
   "metadata": {},
   "source": [
    "# Dynamic Array\n",
    "### In Python - Lists"
   ]
  },
  {
   "cell_type": "code",
   "execution_count": 1,
   "metadata": {},
   "outputs": [],
   "source": [
    "import sys"
   ]
  },
  {
   "cell_type": "code",
   "execution_count": 14,
   "metadata": {},
   "outputs": [
    {
     "name": "stdout",
     "output_type": "stream",
     "text": [
      "Length:   0;\t Size in bytes:   64 \n",
      "Length:   1;\t Size in bytes:   96 \n",
      "Length:   2;\t Size in bytes:   96 \n",
      "Length:   3;\t Size in bytes:   96 \n",
      "Length:   4;\t Size in bytes:   96 \n",
      "Length:   5;\t Size in bytes:  128 \n",
      "Length:   6;\t Size in bytes:  128 \n",
      "Length:   7;\t Size in bytes:  128 \n",
      "Length:   8;\t Size in bytes:  128 \n",
      "Length:   9;\t Size in bytes:  192 \n",
      "Length:  10;\t Size in bytes:  192 \n",
      "Length:  11;\t Size in bytes:  192 \n",
      "Length:  12;\t Size in bytes:  192 \n",
      "Length:  13;\t Size in bytes:  192 \n",
      "Length:  14;\t Size in bytes:  192 \n",
      "Length:  15;\t Size in bytes:  192 \n",
      "Length:  16;\t Size in bytes:  192 \n",
      "Length:  17;\t Size in bytes:  264 \n",
      "Length:  18;\t Size in bytes:  264 \n",
      "Length:  19;\t Size in bytes:  264 \n",
      "Length:  20;\t Size in bytes:  264 \n",
      "Length:  21;\t Size in bytes:  264 \n",
      "Length:  22;\t Size in bytes:  264 \n",
      "Length:  23;\t Size in bytes:  264 \n",
      "Length:  24;\t Size in bytes:  264 \n"
     ]
    }
   ],
   "source": [
    "data = []\n",
    "\n",
    "for i in range(25):\n",
    "    \n",
    "    # Number of elements\n",
    "    a = len(data)\n",
    "    \n",
    "    # Size of list\n",
    "    b = sys.getsizeof(data)\n",
    "    \n",
    "    print(\"Length: {0:3d};\\t Size in bytes: {1:4d} \". format(a,b))\n",
    "    \n",
    "    data.append(i)"
   ]
  },
  {
   "cell_type": "code",
   "execution_count": null,
   "metadata": {},
   "outputs": [],
   "source": []
  }
 ],
 "metadata": {
  "kernelspec": {
   "display_name": "Python 3",
   "language": "python",
   "name": "python3"
  },
  "language_info": {
   "codemirror_mode": {
    "name": "ipython",
    "version": 3
   },
   "file_extension": ".py",
   "mimetype": "text/x-python",
   "name": "python",
   "nbconvert_exporter": "python",
   "pygments_lexer": "ipython3",
   "version": "3.5.2"
  }
 },
 "nbformat": 4,
 "nbformat_minor": 2
}
